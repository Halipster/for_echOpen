{
 "cells": [
  {
   "cell_type": "markdown",
   "metadata": {},
   "source": [
    "# FPGA developpement\n",
    "\n",
    "## Why a FPGA?\n",
    "\n",
    "At first I only wanted to tackle the issue of processing the enveloppe detection. By working on that issue I finally ended up by finding a powerfull tool that could allow numerous cool stuff.\n",
    "\n",
    "## Benchmark\n",
    "\n",
    "I wanted to find a solution to process the enveloppe detection. My first reaction was to have a look at already existing\n",
    "solutions. Here a classical architecture of an ultrasound scanner :\n",
    "![US_architecture](./images/US_architecture_selection.png)\n",
    "Some manufacturers produce some chips called AFE (for analog front end) that do perform the whole signal processing chain. In the figure above from Analog Device website, the orange region correspond to such an AFE. Analog Device describe those chips as *designed for low cost, low power, small size, and ease of use for medical ultrasound applications*. The main problem is that those IC perform the needed operation for 8 channels and cost around 100 dollars. Not so cheap... So I told to myself : What if we could hack those chips. What if we could use the same architecture (since they are supposed to be the holly grall for low cost ultrasound application) but reduce it to one channel in order to make it cost one eighth of the original cost.\n",
    "\n",
    "## My goal\n",
    "\n",
    "If we look at what is in the chip, we can see that a big part is either not needed for now (CW doppler for example) or already implemented (amplification). Let focus on the part that the red pitaya actually handle and let's try to find solutions for that.  \n",
    "![US_AFE](./images/US_AFE_selection.png)\n",
    "What we need is :\n",
    "1. An antialiasing filter (AAF)\n",
    "2. An analog to digitac converter (ADC)\n",
    "3. A demodulator/decimator\n",
    "4. A serializer that would allow to comunicate with some wifi device\n",
    "\n",
    "The AAF-ADC part is quite straightforward. But the demudlation/decimator/serializer part is much more unclear !\n",
    "\n",
    "## FPGAs \n",
    "\n",
    "To do digital demodulation/decimation, one could think to use a processor or a DSP. Unfortunatlly ultrasonic signal are at really high frequency. Typically, imaging that we want to perform some filtering on a 100Mhz signal. A processor will typically run at 1Ghz that would leave you 10 instructions per sample to acheive all your dreamed processing. The only solution is to use FPGAs  and their incredible parrallel capabilities. \n",
    "\n",
    "## iceStorm\n",
    "\n",
    "So I started to have a look at the available FPGA's. I found a really interesting community called iceStorm which is working on developping a full tool chain to do FPGA developpement. \n",
    "\n",
    "http://www.clifford.at/icestorm/\n",
    "\n",
    "So I bought an iceStick, the smallest and cheapest (21 euros) avaible fpaga board available. And start trying to do calculate the enveloppe of a test signal.\n",
    "\n",
    "## Testbench\n",
    "\n",
    "Here the setup i created. I used an arduino to emulate an ADC and a DAC. I was sending 8bit signed integers to the FPGA and receiving in the same time some 8bit processed integers. I wrote a verilog code for enveloppe detection based on a FIR implementation an hilbert transform and optimized it (more info on the mathematical side to come). Verilog was choosen upon VHDL (or other HDL language) because the open source suit can only handle Verilog.\n",
    "![US_testbench](./images/testbench.jpg)\n",
    "\n",
    "## results\n",
    "\n",
    "After learning verilog and hardware logic (and also copping with some serial communication issues with the arduino) i finally ended up with a working device which do compute (quite poorly for now) the enveloppe detection.\n",
    "![US_results](./images/results.png)\n",
    "\n",
    "## Next step\n",
    "\n",
    "The major bottleneck for now is the fpga size. I need to upgrade for a more powerfull one. The one I'm actually using is really small. Ideally, I would like to end on the ICE40HX4K which is 6 time more powerfull. An open source board is actually developping à 30 dollars board on this chip but this board is far from industrialisation (https://mystorm.uk/). Still it could give us shematics if we want to developpe a custom board based on this chip. This chip would be 8 times more powerfull as the one i actually have.\n",
    "In the meanwhile I have spotted two other board. First a board developped by Lattice the manufacturer of the ICE40 FGPAs with the more powerfull chip that cost about 40 euros (http://www.latticesemi.com/Products/DevelopmentBoardsAndKits/iCE40HX8KBreakoutBoard.aspx). Second a board for an other more powerfull chip from Xilinx but at a lower price (30 dollars : http://numato.com/mimas-spartan-6-fpga-development-board/). I'm asking to my self, do we really need a open source chain for FPGA developpement ? At short term, the xilinx solution is better because more powerfull for a lower price. At long term, The Lattice chip would be better because of the open source toolsuit and it's chip only lower price (6,5 euros against 16 euros). But this latter solution also mean less computational power.\n",
    "\n",
    "## Some Other idea for FPGAs\n",
    "\n",
    "FPGAS would allows us to implement other cool signal processing stuff like matched filters for example. Also the code can be upgraded independently of the hardware.\n",
    "\n",
    "## Conclusion\n",
    "\n",
    "We have open the way to FPGA programming !!!"
   ]
  },
  {
   "cell_type": "code",
   "execution_count": null,
   "metadata": {
    "collapsed": true
   },
   "outputs": [],
   "source": []
  }
 ],
 "metadata": {
  "kernelspec": {
   "display_name": "Python 3",
   "language": "python",
   "name": "python3"
  },
  "language_info": {
   "codemirror_mode": {
    "name": "ipython",
    "version": 3
   },
   "file_extension": ".py",
   "mimetype": "text/x-python",
   "name": "python",
   "nbconvert_exporter": "python",
   "pygments_lexer": "ipython3",
   "version": "3.6.0"
  }
 },
 "nbformat": 4,
 "nbformat_minor": 2
}
